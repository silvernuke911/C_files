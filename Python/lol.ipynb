{
 "cells": [
  {
   "cell_type": "code",
   "execution_count": 1,
   "metadata": {},
   "outputs": [],
   "source": [
    "import numpy as np\n",
    "import matplotlib.pyplot as plt \n",
    "import pandas as pd\n",
    "\n",
    "def science_plot(fontsize = 11):\n",
    "    import scienceplots\n",
    "    plt.style.use(['science','grid','notebook'])\n",
    "    plt.rcParams.update({\n",
    "        'font.size'       : fontsize,    # General font size\n",
    "        'axes.titlesize'  : fontsize,    # Font size of the axes title\n",
    "        'axes.labelsize'  : fontsize,    # Font size of the axes labels\n",
    "        'xtick.labelsize' : fontsize,    # Font size of the x-axis tick labels\n",
    "        'ytick.labelsize' : fontsize,    # Font size of the y-axis tick labels\n",
    "        'legend.fontsize' : fontsize,    # Font size of the legend\n",
    "        'figure.titlesize': fontsize,    # Font size of the figure title\n",
    "        'legend.fancybox' : False,       # Disable the fancy box for legend\n",
    "        'legend.edgecolor': 'k',         # Set legend border color to black\n",
    "        'text.usetex'     : True,        # Use LaTeX for text rendering\n",
    "        'font.family'     : 'serif'      # Set font family to serif\n",
    "    })\n",
    "science_plot()"
   ]
  },
  {
   "cell_type": "code",
   "execution_count": 4,
   "metadata": {},
   "outputs": [
    {
     "data": {
      "image/png": "[encoded data removed]",
      "text/plain": [
       "<Figure size 800x600 with 1 Axes>"
      ]
     },
     "metadata": {},
     "output_type": "display_data"
    }
   ],
   "source": [
    "board = np.zeros((8, 8), dtype=int)\n",
    "for i in range(8):  # Iterate over row indices\n",
    "    for j in range(8):  # Iterate over column indices\n",
    "        if (i + j) % 2 == 0:\n",
    "            board[i, j] = 1\n",
    "plt.imshow(board, cmap = 'gray')\n",
    "plt.grid()\n",
    "plt.show()"
   ]
  },
  {
   "cell_type": "code",
   "execution_count": 2,
   "metadata": {},
   "outputs": [
    {
     "data": {
      "text/plain": [
       "4294967296"
      ]
     },
     "execution_count": 2,
     "metadata": {},
     "output_type": "execute_result"
    }
   ],
   "source": [
    "x = 2**32\n",
    "x"
   ]
  },
  {
   "cell_type": "code",
   "execution_count": 3,
   "metadata": {},
   "outputs": [
    {
     "data": {
      "text/plain": [
       "1.2"
      ]
     },
     "execution_count": 3,
     "metadata": {},
     "output_type": "execute_result"
    }
   ],
   "source": [
    "x = 2**16\n",
    "y = 1.2\n",
    "y"
   ]
  }
 ],
 "metadata": {
  "kernelspec": {
   "display_name": "Python 3",
   "language": "python",
   "name": "python3"
  },
  "language_info": {
   "codemirror_mode": {
    "name": "ipython",
    "version": 3
   },
   "file_extension": ".py",
   "mimetype": "text/x-python",
   "name": "python",
   "nbconvert_exporter": "python",
   "pygments_lexer": "ipython3",
   "version": "3.13.2"
  }
 },
 "nbformat": 4,
 "nbformat_minor": 2
}
